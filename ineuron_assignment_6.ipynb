{
 "cells": [
  {
   "cell_type": "code",
   "execution_count": 8,
   "id": "fa416f6c",
   "metadata": {},
   "outputs": [
    {
     "name": "stdout",
     "output_type": "stream",
     "text": [
      "7\n",
      "0 1 1 2 3 5 8 "
     ]
    }
   ],
   "source": [
    "#Q1 :  Write a Python Program to Display Fibonacci Sequence Using Recursion?\n",
    "\n",
    "\n",
    "def fib(n): \n",
    "    if n==0 : \n",
    "        return n \n",
    "    elif  n==1 :\n",
    "        return n\n",
    "    else :\n",
    "        return (fib(n-1) + fib(n-2))\n",
    "a = int(input())\n",
    "for i in range(a):\n",
    "     print(fib(i),\"\", end=\"\")\n",
    "       \n",
    "    "
   ]
  },
  {
   "cell_type": "code",
   "execution_count": 1,
   "id": "c8f0a31a",
   "metadata": {},
   "outputs": [
    {
     "name": "stdout",
     "output_type": "stream",
     "text": [
      "4\n",
      "24\n"
     ]
    }
   ],
   "source": [
    "\n",
    "#Q2: Write a Python Program to Find Factorial of Number Using Recursion?\n",
    "\n",
    "def fact(m): \n",
    "    if m==1 or 0  : \n",
    "        return 1 \n",
    "    else : \n",
    "         return m*fact(m-1)\n",
    "   \n",
    "\n",
    "\n",
    "o= int(input())\n",
    "print(fact(o))"
   ]
  },
  {
   "cell_type": "code",
   "execution_count": 5,
   "id": "e73b847e",
   "metadata": {},
   "outputs": [
    {
     "name": "stdout",
     "output_type": "stream",
     "text": [
      "please enter the height1.8\n",
      "please enter the weight80\n",
      "27.77\n",
      "you are obessed\n"
     ]
    }
   ],
   "source": [
    "def cal(j,k):\n",
    "    t= round((k/j**j),2)\n",
    "    return t \n",
    "\n",
    "h= float(input(\"please enter the height\"))\n",
    "w= float(input(\"please enter the weight\"))\n",
    "bmi= cal(h,w)\n",
    "print(bmi)\n",
    "if bmi<=18.5: \n",
    "    print(\"you are underweight \")\n",
    "elif 18.5>bmi<=24.9:\n",
    "    print(\"weight is normal\")\n",
    "elif 24.9>bmi<29.29 : \n",
    "    print(\"you are overweight\")\n",
    "else : \n",
    "    print(\"you are obessed\")\n",
    "\n"
   ]
  },
  {
   "cell_type": "code",
   "execution_count": 6,
   "id": "62977352",
   "metadata": {},
   "outputs": [
    {
     "name": "stdout",
     "output_type": "stream",
     "text": [
      "5\n",
      "1.6094379124341003\n"
     ]
    }
   ],
   "source": [
    "#Q4 : Write a Python Program to calculate the natural logarithm of any number?\n",
    "import math \n",
    "v= int(input())\n",
    "print(math.log(v))"
   ]
  },
  {
   "cell_type": "code",
   "execution_count": 14,
   "id": "286356fb",
   "metadata": {},
   "outputs": [
    {
     "name": "stdout",
     "output_type": "stream",
     "text": [
      "5\n",
      "225\n"
     ]
    }
   ],
   "source": [
    "# Q5:  Write a Python Program for cube sum of first n natural numbers?\n",
    "p= int(input())\n",
    "sums=0 \n",
    "for i in range(1,p+1): \n",
    "     sums=sums+i*i*i\n",
    "\n",
    "   \n",
    "\n",
    "print(sums)  \n"
   ]
  },
  {
   "cell_type": "code",
   "execution_count": null,
   "id": "8ea6ded6",
   "metadata": {},
   "outputs": [],
   "source": []
  }
 ],
 "metadata": {
  "kernelspec": {
   "display_name": "Python 3 (ipykernel)",
   "language": "python",
   "name": "python3"
  },
  "language_info": {
   "codemirror_mode": {
    "name": "ipython",
    "version": 3
   },
   "file_extension": ".py",
   "mimetype": "text/x-python",
   "name": "python",
   "nbconvert_exporter": "python",
   "pygments_lexer": "ipython3",
   "version": "3.9.13"
  }
 },
 "nbformat": 4,
 "nbformat_minor": 5
}
